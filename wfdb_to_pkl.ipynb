{
 "cells": [
  {
   "cell_type": "code",
   "execution_count": 13,
   "metadata": {},
   "outputs": [],
   "source": [
    "import numpy as np\n",
    "import pandas as pd\n",
    "import pickle\n",
    "import os\n",
    "import matplotlib.pyplot as plt\n",
    "import neurokit2 as nk\n",
    "import wfdb"
   ]
  },
  {
   "cell_type": "markdown",
   "metadata": {},
   "source": [
    "## Leitura do dataframe"
   ]
  },
  {
   "cell_type": "code",
   "execution_count": 2,
   "metadata": {},
   "outputs": [
    {
     "data": {
      "text/html": [
       "<div>\n",
       "<style scoped>\n",
       "    .dataframe tbody tr th:only-of-type {\n",
       "        vertical-align: middle;\n",
       "    }\n",
       "\n",
       "    .dataframe tbody tr th {\n",
       "        vertical-align: top;\n",
       "    }\n",
       "\n",
       "    .dataframe thead th {\n",
       "        text-align: right;\n",
       "    }\n",
       "</style>\n",
       "<table border=\"1\" class=\"dataframe\">\n",
       "  <thead>\n",
       "    <tr style=\"text-align: right;\">\n",
       "      <th></th>\n",
       "      <th>Patient ID</th>\n",
       "      <th>Follow-up period from enrollment (days)</th>\n",
       "      <th>days_4years</th>\n",
       "      <th>Exit of the study</th>\n",
       "      <th>Cause of death</th>\n",
       "      <th>SCD_4years SinusRhythm</th>\n",
       "      <th>HF_4years SinusRhythm</th>\n",
       "      <th>Age</th>\n",
       "      <th>Gender (male=1)</th>\n",
       "      <th>Weight (kg)</th>\n",
       "      <th>...</th>\n",
       "      <th>Unnamed: 173</th>\n",
       "      <th>Unnamed: 174</th>\n",
       "      <th>Unnamed: 175</th>\n",
       "      <th>Unnamed: 176</th>\n",
       "      <th>Unnamed: 177</th>\n",
       "      <th>Unnamed: 178</th>\n",
       "      <th>Unnamed: 179</th>\n",
       "      <th>Unnamed: 180</th>\n",
       "      <th>Unnamed: 181</th>\n",
       "      <th>age_int</th>\n",
       "    </tr>\n",
       "  </thead>\n",
       "  <tbody>\n",
       "    <tr>\n",
       "      <th>0</th>\n",
       "      <td>P0001</td>\n",
       "      <td>2065</td>\n",
       "      <td>1460</td>\n",
       "      <td>NaN</td>\n",
       "      <td>0</td>\n",
       "      <td>0</td>\n",
       "      <td>0</td>\n",
       "      <td>58</td>\n",
       "      <td>1</td>\n",
       "      <td>83</td>\n",
       "      <td>...</td>\n",
       "      <td>NaN</td>\n",
       "      <td>NaN</td>\n",
       "      <td>NaN</td>\n",
       "      <td>NaN</td>\n",
       "      <td>NaN</td>\n",
       "      <td>NaN</td>\n",
       "      <td>NaN</td>\n",
       "      <td>NaN</td>\n",
       "      <td>NaN</td>\n",
       "      <td>58</td>\n",
       "    </tr>\n",
       "    <tr>\n",
       "      <th>1</th>\n",
       "      <td>P0002</td>\n",
       "      <td>2045</td>\n",
       "      <td>1460</td>\n",
       "      <td>NaN</td>\n",
       "      <td>0</td>\n",
       "      <td>0</td>\n",
       "      <td>0</td>\n",
       "      <td>58</td>\n",
       "      <td>1</td>\n",
       "      <td>74</td>\n",
       "      <td>...</td>\n",
       "      <td>NaN</td>\n",
       "      <td>NaN</td>\n",
       "      <td>NaN</td>\n",
       "      <td>NaN</td>\n",
       "      <td>NaN</td>\n",
       "      <td>NaN</td>\n",
       "      <td>NaN</td>\n",
       "      <td>NaN</td>\n",
       "      <td>NaN</td>\n",
       "      <td>58</td>\n",
       "    </tr>\n",
       "    <tr>\n",
       "      <th>2</th>\n",
       "      <td>P0003</td>\n",
       "      <td>2044</td>\n",
       "      <td>1460</td>\n",
       "      <td>NaN</td>\n",
       "      <td>0</td>\n",
       "      <td>0</td>\n",
       "      <td>0</td>\n",
       "      <td>69</td>\n",
       "      <td>1</td>\n",
       "      <td>83</td>\n",
       "      <td>...</td>\n",
       "      <td>NaN</td>\n",
       "      <td>NaN</td>\n",
       "      <td>NaN</td>\n",
       "      <td>NaN</td>\n",
       "      <td>NaN</td>\n",
       "      <td>NaN</td>\n",
       "      <td>NaN</td>\n",
       "      <td>NaN</td>\n",
       "      <td>NaN</td>\n",
       "      <td>69</td>\n",
       "    </tr>\n",
       "  </tbody>\n",
       "</table>\n",
       "<p>3 rows × 183 columns</p>\n",
       "</div>"
      ],
      "text/plain": [
       "  Patient ID  Follow-up period from enrollment (days)  days_4years  \\\n",
       "0      P0001                                     2065         1460   \n",
       "1      P0002                                     2045         1460   \n",
       "2      P0003                                     2044         1460   \n",
       "\n",
       "   Exit of the study  Cause of death  SCD_4years SinusRhythm  \\\n",
       "0                NaN               0                       0   \n",
       "1                NaN               0                       0   \n",
       "2                NaN               0                       0   \n",
       "\n",
       "   HF_4years SinusRhythm Age  Gender (male=1)  Weight (kg)  ...  Unnamed: 173  \\\n",
       "0                      0  58                1           83  ...           NaN   \n",
       "1                      0  58                1           74  ...           NaN   \n",
       "2                      0  69                1           83  ...           NaN   \n",
       "\n",
       "  Unnamed: 174  Unnamed: 175  Unnamed: 176  Unnamed: 177  Unnamed: 178  \\\n",
       "0          NaN           NaN           NaN           NaN           NaN   \n",
       "1          NaN           NaN           NaN           NaN           NaN   \n",
       "2          NaN           NaN           NaN           NaN           NaN   \n",
       "\n",
       "   Unnamed: 179  Unnamed: 180  Unnamed: 181  age_int  \n",
       "0           NaN           NaN           NaN       58  \n",
       "1           NaN           NaN           NaN       58  \n",
       "2           NaN           NaN           NaN       69  \n",
       "\n",
       "[3 rows x 183 columns]"
      ]
     },
     "execution_count": 2,
     "metadata": {},
     "output_type": "execute_result"
    }
   ],
   "source": [
    "info = pd.read_csv('~/Downloads/subject-info.csv', sep=';')\n",
    "info['age_int'] = info['Age'].apply(lambda x: int(x) if x != '>89' else 90)\n",
    "info.head(3)"
   ]
  },
  {
   "cell_type": "code",
   "execution_count": 3,
   "metadata": {},
   "outputs": [
    {
     "data": {
      "text/plain": [
       "death_label\n",
       "0    0.905983\n",
       "1    0.094017\n",
       "Name: count, dtype: float64"
      ]
     },
     "execution_count": 3,
     "metadata": {},
     "output_type": "execute_result"
    }
   ],
   "source": [
    "info = info[info['Holter available'] == 1].copy()\n",
    "# 3 == SCD\n",
    "info['death_label'] = ((info['Follow-up period from enrollment (days)'] < 365*5) & (info['Cause of death'] == 3)).astype(int)\n",
    "info['death_label'].value_counts() / info.shape[0]"
   ]
  },
  {
   "cell_type": "code",
   "execution_count": 4,
   "metadata": {},
   "outputs": [],
   "source": [
    "survivors = info[info['death_label'] == 0]\n",
    "not_survivors = info[info['death_label'] == 1]\n",
    "\n",
    "# Escolhendo um subset dos sobreviventes\n",
    "sampled_survivors = survivors.sample(n=len(not_survivors), random_state=42)\n",
    "\n",
    "# Shuffling\n",
    "balanced_df = pd.concat([not_survivors, sampled_survivors])\n",
    "balanced_df = balanced_df.sample(frac=1, random_state=42).reset_index(drop=True)"
   ]
  },
  {
   "cell_type": "markdown",
   "metadata": {},
   "source": [
    "## WFDB -> PKL"
   ]
  },
  {
   "cell_type": "code",
   "execution_count": null,
   "metadata": {},
   "outputs": [],
   "source": [
    "base_path = '/home/kelvin/Downloads/music'\n",
    "original_fs = 200\n",
    "desired_fs = 128\n",
    "start_time = original_fs * 30 # 30s\n",
    "duration = original_fs * 60 * 60 * 4 # 4hrs\n",
    "end_time = start_time + duration"
   ]
  },
  {
   "cell_type": "code",
   "execution_count": 6,
   "metadata": {},
   "outputs": [
    {
     "name": "stdout",
     "output_type": "stream",
     "text": [
      "Processing holter 25/176\n",
      "Processing holter 50/176\n",
      "Processing holter 75/176\n",
      "Processing holter 100/176\n",
      "Processing holter 125/176\n",
      "Processing holter 150/176\n",
      "Processing holter 175/176\n"
     ]
    }
   ],
   "source": [
    "data = []\n",
    "labels = []\n",
    "\n",
    "for idx, row in balanced_df.iterrows():\n",
    "    if (idx + 1) % 25 == 0:\n",
    "        print(f\"Processing holter {idx+1}/{len(balanced_df)}\")\n",
    "    \n",
    "    pid = row['Patient ID']\n",
    "    label = row['death_label']\n",
    "\n",
    "    record = wfdb.rdrecord(os.path.join(base_path, pid), channels=[0], sampfrom=start_time, sampto=end_time)\n",
    "\n",
    "    signal = np.array(record.p_signal, dtype=np.float32).flatten()\n",
    "    resampled = nk.signal_resample(\n",
    "        signal, sampling_rate=original_fs, desired_sampling_rate=desired_fs, method='interpolation'\n",
    "    )\n",
    "    del signal\n",
    "\n",
    "    data.append(resampled)\n",
    "    labels.append(label)\n",
    "\n",
    "\n",
    "final_data = {\n",
    "    'data': np.array(data, dtype=np.float32),\n",
    "    'death_label': np.array(labels, dtype=np.int16),\n",
    "}\n",
    "\n",
    "with open(os.path.join('data', f'music_{desired_fs}hz_{len(balanced_df)}.pkl'), 'wb') as pkl_file:\n",
    "    pickle.dump(final_data, pkl_file)"
   ]
  },
  {
   "cell_type": "markdown",
   "metadata": {},
   "source": [
    "## Leitura do PKL gerado"
   ]
  },
  {
   "cell_type": "code",
   "execution_count": 7,
   "metadata": {},
   "outputs": [
    {
     "data": {
      "text/plain": [
       "dict_keys(['data', 'death_label'])"
      ]
     },
     "execution_count": 7,
     "metadata": {},
     "output_type": "execute_result"
    }
   ],
   "source": [
    "with open(os.path.join('data', f'music_{desired_fs}hz_{len(balanced_df)}.pkl'), 'rb') as fin:\n",
    "    res = pickle.load(fin)\n",
    "res.keys()"
   ]
  },
  {
   "cell_type": "code",
   "execution_count": 12,
   "metadata": {},
   "outputs": [
    {
     "data": {
      "text/plain": [
       "1843200"
      ]
     },
     "execution_count": 12,
     "metadata": {},
     "output_type": "execute_result"
    }
   ],
   "source": [
    "128 * 60 * 60 * 4"
   ]
  },
  {
   "cell_type": "code",
   "execution_count": 9,
   "metadata": {},
   "outputs": [
    {
     "data": {
      "text/plain": [
       "(numpy.ndarray, (176, 1843200))"
      ]
     },
     "execution_count": 9,
     "metadata": {},
     "output_type": "execute_result"
    }
   ],
   "source": [
    "type(res['data']), res['data'].shape"
   ]
  },
  {
   "cell_type": "markdown",
   "metadata": {},
   "source": [
    "## Leitura dos PKL não processados"
   ]
  },
  {
   "cell_type": "code",
   "execution_count": 10,
   "metadata": {},
   "outputs": [
    {
     "name": "stdout",
     "output_type": "stream",
     "text": [
      "x_train: (123, 2764800)\n",
      "y_train: (123,)\n",
      "x_val: (26, 2764800)\n",
      "y_val: (26,)\n",
      "x_test: (27, 2764800)\n",
      "y_test: (27,)\n"
     ]
    }
   ],
   "source": [
    "names = [\n",
    "    \"x_train\", \"y_train\", \n",
    "    \"x_val\", \"y_val\", \n",
    "    \"x_test\", \"y_test\"\n",
    "]\n",
    "for name in names:\n",
    "    with open(f\"data/music_unprocessed/{name}.pkl\", \"rb\") as f:\n",
    "        data = pickle.load(f)\n",
    "        print(f\"{name}: {data.shape}\")"
   ]
  },
  {
   "cell_type": "markdown",
   "metadata": {},
   "source": [
    "## Leitura dos arquivos pre-processados"
   ]
  },
  {
   "cell_type": "code",
   "execution_count": 14,
   "metadata": {},
   "outputs": [
    {
     "name": "stdout",
     "output_type": "stream",
     "text": [
      "x_train: (177113, 1280, 1)\n",
      "y_train: (177113, 2)\n",
      "pid_train: (177113,)\n",
      "x_val: (37440, 1280, 1)\n",
      "y_val: (37440, 2)\n",
      "pid_val: (37440,)\n",
      "x_test: (38880, 1280, 1)\n",
      "y_test: (38880, 2)\n",
      "pid_test: (38880,)\n"
     ]
    }
   ],
   "source": [
    "names = [\n",
    "    \"x_train\", \"y_train\", \"pid_train\", \n",
    "    \"x_val\", \"y_val\", \"pid_val\", \n",
    "    \"x_test\", \"y_test\", \"pid_test\"\n",
    "]\n",
    "for name in names:\n",
    "    with open(f\"data/music_preprocessed_10s_standard/{name}.pkl\", \"rb\") as f:\n",
    "        data = pickle.load(f)\n",
    "        print(f\"{name}: {data.shape}\")"
   ]
  }
 ],
 "metadata": {
  "kernelspec": {
   "display_name": ".venv",
   "language": "python",
   "name": "python3"
  },
  "language_info": {
   "codemirror_mode": {
    "name": "ipython",
    "version": 3
   },
   "file_extension": ".py",
   "mimetype": "text/x-python",
   "name": "python",
   "nbconvert_exporter": "python",
   "pygments_lexer": "ipython3",
   "version": "3.10.12"
  }
 },
 "nbformat": 4,
 "nbformat_minor": 2
}
